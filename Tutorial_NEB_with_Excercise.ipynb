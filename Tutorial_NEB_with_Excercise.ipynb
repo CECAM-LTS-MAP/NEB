{
 "cells": [
  {
   "cell_type": "code",
   "execution_count": null,
   "id": "dcdcf31f-2703-4101-86b8-c2e8960a7049",
   "metadata": {},
   "outputs": [],
   "source": [
    "import os\n",
    "import ase\n",
    "import numpy as np\n",
    "import matplotlib.pyplot as plt\n",
    "from ase.build import fcc100,add_adsorbate\n",
    "from ase import Atoms\n",
    "import ase.visualize as asevisual\n",
    "from ase import data as asedata\n",
    "\n",
    "from ase.calculators.eam import EAM\n",
    "from ase.optimize import FIRE, LBFGS\n",
    "from ase.neb import NEB\n",
    "from ase.neb import NEBTools\n",
    "from ase.io import Trajectory\n",
    "from ase.vibrations import Vibrations"
   ]
  },
  {
   "cell_type": "markdown",
   "id": "2ba31d12-d49c-41c6-926f-b07e4a4c66f2",
   "metadata": {},
   "source": [
    "<h1> Demonstration<h1>\n",
    "<h5>Useful page: https://wiki.fysik.dtu.dk/ase/ase/neb.html<h5>\n",
    "<h2>Direct hopping of adatom on silver fcc(100) surface.<h2>\n",
    "<h2>Step 1: Prepare initial and final state structures<h2>\n",
    "<h3>https://wiki.fysik.dtu.dk/ase/ase/build/surface.html<h3>"
   ]
  },
  {
   "cell_type": "code",
   "execution_count": null,
   "id": "81ffa284-2e2c-4aa4-be5b-48051efa06ea",
   "metadata": {},
   "outputs": [],
   "source": [
    "# Trying to make a folder for exporting files\n",
    "try:    \n",
    "    os.mkdir('demo_dump/')\n",
    "except:\n",
    "    pass\n",
    "# ASE build in function to generate surface\n",
    "fcc100_Pd = fcc100('Pd', (6,6,4), a=None, vacuum=10, orthogonal=True, periodic=True)\n",
    "# Get the NN separation between Ag-Ag\n",
    "NN_dist= asedata.reference_states[46]['a']/np.sqrt(2)\n",
    "\n",
    "# Get a location of the adatom to put\n",
    "adatom_loc_xy = fcc100_Pd.positions[fcc100_Pd.positions[:,2].argsort()[-1]]+ NN_dist*np.array([-3.5,-3.5,0])\n",
    "# This is relative to the 'top' of the slab\n",
    "adatom_loc_height= NN_dist/np.sqrt(2)\n",
    "# Make an ase obj for the initial state\n",
    "ini_ase=fcc100_Pd.copy()\n",
    "add_adsorbate(ini_ase, 'Pd', adatom_loc_height, position=(adatom_loc_xy[0], adatom_loc_xy[1]))\n",
    "\n",
    "# Similrar to above, but with the adatom shifted to the next holo-site\n",
    "adatom_loc_xy = adatom_loc_xy+NN_dist*np.array([1,0,0])\n",
    "fin_ase=fcc100_Pd.copy()\n",
    "add_adsorbate(fin_ase, 'Pd', adatom_loc_height, position=(adatom_loc_xy[0], adatom_loc_xy[1]))\n",
    "\n",
    "# Sanity check if the structure is okay\n",
    "# https://wiki.fysik.dtu.dk/ase/ase/visualize/visualize.html#module-ase.visualize\n",
    "asevisual.view([ini_ase,fin_ase])"
   ]
  },
  {
   "cell_type": "markdown",
   "id": "aa27737d-a411-4411-a5e6-a01e6f119888",
   "metadata": {},
   "source": [
    "<h2>Step 2: Optimize the structures!<h2>"
   ]
  },
  {
   "cell_type": "code",
   "execution_count": null,
   "id": "84799ec7-8207-4953-b551-6e685fa6470e",
   "metadata": {},
   "outputs": [],
   "source": [
    "# For newbies using ASE, the documentation of Atoms object in ASE:\n",
    "# https://wiki.fysik.dtu.dk/ase/ase/atoms.html\n",
    "# (Read it when you need it)\n",
    "\n",
    "# Set a calculator for each structure, here we will stick to simple classical force field (EAM)\n",
    "ini_ase.set_calculator(EAM(elements=['Pd'],potential='Pd_u3.eam'))\n",
    "ini_e_before= ini_ase.get_potential_energy()\n",
    "# Setup the optimization algorithm, here we use FIRE/LBFGS\n",
    "# Choose the one suits your system\n",
    "# https://wiki.fysik.dtu.dk/ase/ase/optimize.html\n",
    "# dyn = FIRE(ini_ase)\n",
    "dyn = LBFGS(ini_ase)\n",
    "# Execute the optimization, with a threshold of fmax=0.05\n",
    "# The convergence criterion is that the force on all individual atoms should be less than fmax\n",
    "dyn.run(fmax=0.05)\n",
    "ini_e_after= ini_ase.get_potential_energy()\n",
    "print(f'Structure Optimized Energy {ini_e_before} -> {ini_e_after}')\n",
    "\n",
    "# Repeat for final state\n",
    "fin_ase.set_calculator(EAM(elements=['Pd'],potential='Pd_u3.eam'))\n",
    "fin_e_before= fin_ase.get_potential_energy()\n",
    "# dyn = FIRE(fin_ase)\n",
    "dyn = LBFGS(fin_ase)\n",
    "dyn.run(fmax=0.05)\n",
    "fin_e_after= fin_ase.get_potential_energy()\n",
    "print(f'Structure Optimized Energy {fin_e_before} -> {fin_e_after}')"
   ]
  },
  {
   "cell_type": "markdown",
   "id": "4096717a-4f4e-4371-a3af-affed5295ef0",
   "metadata": {},
   "source": [
    "<h2>Step 3: ci-NEB Time. Initalize the states of the band<h2>"
   ]
  },
  {
   "cell_type": "code",
   "execution_count": null,
   "id": "267d0e63-3aed-4274-95b9-6740eb38e64a",
   "metadata": {},
   "outputs": [],
   "source": [
    "# Make a list for images of the band, the first one is the initial, last one is final\n",
    "# The middle ones are initalized as a copy of the initial state (will be adjusted afterwards)\n",
    "# Let's put 7 images in the band\n",
    "Nimages = 7\n",
    "# From ASE documentation\n",
    "# https://wiki.fysik.dtu.dk/ase/ase/neb.html\n",
    "# Be sure to use the copy method (or similar) to create new instances of atoms within the list of images fed to the NEB.\n",
    "# Do not use something like [initial for i in range(3)], as it will only create references to the original atoms object.\n",
    "NEB_images = [ini_ase.copy() for item in np.arange(Nimages+1)]\n",
    "NEB_images+= [fin_ase]\n",
    "# Intiallize the ciNEB object\n",
    "# climb=True for climing image\n",
    "# improved tangent: \n",
    "# H. Jonsson, G. Mills, and K. W. Jacobsen, in ‘Classical and Quantum Dynamics in Condensed Phase Systems’, edited by B. J. Berne, G. Cicotti, and D. F. Coker, World Scientific, 1998\n",
    "neb=NEB(NEB_images, k=0.1, climb=True, method='improvedtangent')\n",
    "# Adjust the images to an interpolation of positions between inital and final states\n",
    "# IDPP: ‘Improved initial guess for minimum energy path calculations.’, S. Smidstrup, A. Pedersen, K. Stokbro and H. Jonsson, J. Chem. Phys. 140, 214106 (2014)\n",
    "neb.interpolate('idpp',mic=True)\n",
    "# Each bead has its own ASE calculator\n",
    "for bead in NEB_images:\n",
    "    bead.set_calculator(EAM(elements=['Pd'],potential='Pd_u3.eam'))\n",
    "# Take a look at it first\n",
    "asevisual.view(NEB_images)"
   ]
  },
  {
   "cell_type": "markdown",
   "id": "321dcd58-d549-4802-ba88-bebf9e66d250",
   "metadata": {},
   "source": [
    "<h2>Step 4: Really ci-NEB Time<h2>"
   ]
  },
  {
   "cell_type": "code",
   "execution_count": null,
   "id": "182e8e8c-de33-46a1-af37-9d6737350e71",
   "metadata": {},
   "outputs": [],
   "source": [
    "# Make a trajectory file, contains the images of each NEB iteration\n",
    "# dyn=FIRE(neb, trajectory='demo_dump/NEB.traj', logfile='demo_dump/neb.log')\n",
    "dyn=LBFGS(neb, trajectory='demo_dump/NEB.traj', logfile='demo_dump/neb.log')\n",
    "\n",
    "# Make a trajectory file for each bead on the band for each NEB iteration\n",
    "for bead_id in range(1,Nimages+1):\n",
    "    traj = Trajectory('demo_dump/neb-%d.traj' % bead_id, 'w', NEB_images[bead_id])\n",
    "    dyn.attach(traj)\n",
    "# Run ciNEB\n",
    "dyn.run(fmax=0.05)"
   ]
  },
  {
   "cell_type": "markdown",
   "id": "6f595b88-cca1-4a3d-9439-6e485f7f0a7f",
   "metadata": {},
   "source": [
    "<h2>Step 5: Extracting Stuffs<h2>"
   ]
  },
  {
   "cell_type": "code",
   "execution_count": null,
   "id": "f5781a6c-baff-4a18-a568-448700afed8a",
   "metadata": {},
   "outputs": [],
   "source": [
    "# This gives the forward barrier\n",
    "# just the energy difference of transition state and initial\n",
    "nebtools = NEBTools(NEB_images)\n",
    "barrier= nebtools.get_barrier(fit=False)\n",
    "print(f'The barrier of forward reaction is {barrier[0]}eV')"
   ]
  },
  {
   "cell_type": "code",
   "execution_count": null,
   "id": "a679ce3f-8620-4d34-bcbe-12a464ed9056",
   "metadata": {},
   "outputs": [],
   "source": [
    "# Alternate way, calculate by yourself\n",
    "nebtools = NEBTools(NEB_images)\n",
    "IS_E= NEB_images[0].get_potential_energy()\n",
    "# TS_E= nebtools.get_barrier(fit=False,raw=True)[0]\n",
    "# or\n",
    "TS_E= NEB_images[4].get_potential_energy()\n",
    "FS_E= NEB_images[-1].get_potential_energy()\n",
    "# Why is it [0],[4],[-1]???\n",
    "\n",
    "Eact_IT = TS_E-IS_E\n",
    "Eact_FT = TS_E-FS_E\n",
    "print(f'The barrier of forward reaction is {Eact_IT:.4f} eV')\n",
    "print(f'The barrier of backward reaction is {Eact_FT:.4f} eV')"
   ]
  },
  {
   "cell_type": "code",
   "execution_count": null,
   "id": "2aeacd6c-456d-48e4-a873-a7ed71a25911",
   "metadata": {},
   "outputs": [],
   "source": [
    "# These are for plotting in matplotlib\n",
    "fig = plt.figure(dpi=300)\n",
    "ax = fig.add_axes((0.15, 0.15, 0.8, 0.75))\n",
    "nebtools.plot_band(ax)\n",
    "plt.show()\n",
    "plt.close()"
   ]
  },
  {
   "cell_type": "code",
   "execution_count": null,
   "id": "3467c8df-d817-46c5-abf6-d7fc5ce1e00a",
   "metadata": {},
   "outputs": [],
   "source": [
    "# You might have to first remove the old output files before you run this\n",
    "# Planck constant\n",
    "h = 4.135667689e-15\n",
    "# No one wants to solve the whole Hessian involving all atoms (most of them are not moving)\n",
    "# This is the ID of the atom which you want to include when solving the vibrational energy\n",
    "indices = [144]\n",
    "# https://wiki.fysik.dtu.dk/ase/ase/vibrations/modes.html\n",
    "# Solve the vibrational energy for ini state\n",
    "vib_IS = Vibrations(NEB_images[0],indices=indices,name=\"demo_dump/vib_IS\")\n",
    "vib_IS.clean()\n",
    "vib_IS.run()\n",
    "# Get the vibrational energies\n",
    "IS_energies = vib_IS.get_energies()\n",
    "# Get a product of them (for calculation of prefactor with hTST)\n",
    "IS_real = [i.real for i in IS_energies if i.real != 0]\n",
    "\n",
    "# Solve the vibrational energy for transition state\n",
    "vib_TS = Vibrations(NEB_images[4],indices=indices,name=\"demo_dump/vib_TS\")\n",
    "vib_TS.clean()\n",
    "vib_TS.run()\n",
    "# Get the vibrational energies\n",
    "TS_energies = vib_TS.get_energies()\n",
    "# Get a product of them (for calculation of prefactor with hTST)\n",
    "# One of them is supposed to be imaginary (is it?)\n",
    "TS_real = [i.real for i in TS_energies if i.real != 0]\n",
    "\n",
    "# Solve the vibrational energy for fin state\n",
    "vib_FS = Vibrations(NEB_images[-1],indices=indices,name=\"demo_dump/vib_FS\")\n",
    "vib_FS.clean()\n",
    "vib_FS.run()\n",
    "FS_energies = vib_FS.get_energies()\n",
    "FS_real = [i.real for i in FS_energies if i.real != 0]\n",
    "\n",
    "nu_IT = (np.prod(IS_real)/np.prod(TS_real))/h\n",
    "nu_FT = (np.prod(FS_real)/np.prod(TS_real))/h\n",
    "print(f'The prefactor of forward reaction is {nu_IT:.4e} Hz')\n",
    "print(f'The prefactor of backward reaction is {nu_FT:.4e} Hz')"
   ]
  },
  {
   "cell_type": "markdown",
   "id": "5b66aa64-bf5c-49fc-97f7-b2eeb4466881",
   "metadata": {},
   "source": [
    "<h1>Your turn!<h1>"
   ]
  },
  {
   "cell_type": "markdown",
   "id": "66f4de66-15a5-46da-883a-9e086a6b198b",
   "metadata": {},
   "source": [
    "<h2> Ex.1: Exchange Diffusion Mechanism on FCC(100) <h2>"
   ]
  },
  {
   "cell_type": "code",
   "execution_count": null,
   "id": "9df087e7-d819-425b-8bf4-06750eae03fd",
   "metadata": {},
   "outputs": [],
   "source": [
    "import os\n",
    "try:    \n",
    "    os.mkdir('ex1_dump/')\n",
    "except:\n",
    "    pass\n",
    "# ASE build in function to generate surface\n",
    "fcc100_Pd = fcc100('Pd', (6,6,4), a=None, vacuum=10, orthogonal=True, periodic=True)\n",
    "# Get the NN separation between Ag-Ag\n",
    "NN_dist= asedata.reference_states[46]['a']/np.sqrt(2)\n",
    "\n",
    "# Get a location of the adatom to put\n",
    "adatom_loc_xy = fcc100_Pd.positions[fcc100_Pd.positions[:,2].argsort()[-1]]+ NN_dist*np.array([-3.5,-3.5,0])\n",
    "# This is relative to the 'top' of the slab\n",
    "adatom_loc_height= NN_dist/np.sqrt(2)\n",
    "# Make an ase obj for the initial state\n",
    "ini_ase=fcc100_Pd.copy()\n",
    "add_adsorbate(ini_ase, 'Pd', adatom_loc_height, position=(adatom_loc_xy[0], adatom_loc_xy[1]))\n",
    "\n",
    "# Similrar to above, but with the adatom shifted to the next holo-site\n",
    "adatom_loc_xy = adatom_loc_xy+NN_dist*np.array([1,1,0])\n",
    "fin_ase=fcc100_Pd.copy()\n",
    "add_adsorbate(fin_ase, 'Pd', adatom_loc_height, position=(adatom_loc_xy[0], adatom_loc_xy[1]))\n",
    "fin_pos=fin_ase.positions.copy()\n",
    "fin_pos[144] = fin_ase.positions[122]\n",
    "fin_pos[122] = fin_ase.positions[144]\n",
    "fin_ase.set_positions(fin_pos)\n",
    "# Sanity check if the structure is okay\n",
    "asevisual.view([ini_ase,fin_ase])"
   ]
  },
  {
   "cell_type": "code",
   "execution_count": null,
   "id": "5af2bc43-78a8-4596-8efb-2fb94edaccb8",
   "metadata": {},
   "outputs": [],
   "source": [
    "ini_ase.set_calculator(EAM(elements=['Pd'],potential='Pd_u3.eam'))\n",
    "ini_e_before= ini_ase.get_potential_energy()\n",
    "# Setup the optimization algorithm, here we use FIRE/LBFGS\n",
    "# Choose the one suits your system\n",
    "# https://wiki.fysik.dtu.dk/ase/ase/optimize.html\n",
    "# dyn = FIRE(ini_ase)\n",
    "dyn = LBFGS(ini_ase)\n",
    "dyn.run(fmax=0.05)\n",
    "ini_e_after= ini_ase.get_potential_energy()\n",
    "print(f'Structure Optimized Energy {ini_e_before} -> {ini_e_after}')\n",
    "\n",
    "fin_ase.set_calculator(EAM(elements=['Pd'],potential='Pd_u3.eam'))\n",
    "fin_e_before= fin_ase.get_potential_energy()\n",
    "# dyn = FIRE(fin_ase)\n",
    "dyn = LBFGS(fin_ase)\n",
    "dyn.run(fmax=0.05)\n",
    "fin_e_after= fin_ase.get_potential_energy()\n",
    "print(f'Structure Optimized Energy {fin_e_before} -> {fin_e_after}')"
   ]
  },
  {
   "cell_type": "code",
   "execution_count": null,
   "id": "c4c851d3-0c51-41fd-8c09-f0b1a663140a",
   "metadata": {},
   "outputs": [],
   "source": [
    "# Make a list for images of the band, the first one is the initial, last one is final\n",
    "# The middle ones are initalized as a copy of the initial state (will be adjusted afterwards)\n",
    "# Let's put 7 images in the band\n",
    "Nimages = 7\n",
    "# From ASE documentation\n",
    "# Be sure to use the copy method (or similar) to create new instances of atoms within the list of images fed to the NEB.\n",
    "# Do not use something like [initial for i in range(3)], as it will only create references to the original atoms object.\n",
    "NEB_images = [ini_ase.copy() for item in np.arange(Nimages+1)]\n",
    "NEB_images+= [fin_ase]\n",
    "# Intiallize the NEB object\n",
    "neb=NEB(NEB_images, k=0.1, climb=True, method='improvedtangent')\n",
    "# Adjust the images to an interpolation of positions between inital and final states\n",
    "# IDPP: ‘Improved initial guess for minimum energy path calculations.’, S. Smidstrup, A. Pedersen, K. Stokbro and H. Jonsson, J. Chem. Phys. 140, 214106 (2014)\n",
    "neb.interpolate('idpp',mic=True)\n",
    "# Each bead has its own ASE calculator\n",
    "for bead in NEB_images:\n",
    "    bead.set_calculator(EAM(elements=['Pd'],potential='Pd_u3.eam'))\n",
    "# Take a look at it first\n",
    "asevisual.view(NEB_images)"
   ]
  },
  {
   "cell_type": "code",
   "execution_count": null,
   "id": "31408a7c-dd0a-46bb-8d3a-22752b15459a",
   "metadata": {},
   "outputs": [],
   "source": [
    "# Make a trajectory file, contains the images of each NEB iteration\n",
    "# Setup the optimization algorithm, here we use FIRE/LBFGS\n",
    "# Choose the one suits your system\n",
    "# https://wiki.fysik.dtu.dk/ase/ase/optimize.html\n",
    "# dyn=FIRE(neb, trajectory='ex1_dump/NEB.traj', logfile='ex1_dump/neb.log')\n",
    "dyn=LBFGS(neb, trajectory='ex1_dump/NEB.traj', logfile='ex1_dump/neb.log')\n",
    "# Make a trajectory file for each bead on the band for each NEB iteration\n",
    "for bead_id in range(1,Nimages+1):\n",
    "    traj = Trajectory('ex1_dump/neb-%d.traj' % bead_id, 'w', NEB_images[bead_id])\n",
    "    dyn.attach(traj)\n",
    "# Run ciNEB\n",
    "dyn.run(fmax=0.05)"
   ]
  },
  {
   "cell_type": "code",
   "execution_count": null,
   "id": "d0dce271-d9c7-4c4d-aab1-8fe567ca2340",
   "metadata": {},
   "outputs": [],
   "source": [
    "# Alternate way, calculate by yourself\n",
    "nebtools = NEBTools(NEB_images)\n",
    "IS_E= NEB_images[0].get_potential_energy()\n",
    "# TS_E= nebtools.get_barrier(fit=False,raw=True)[0]\n",
    "# or\n",
    "TS_E= NEB_images[4].get_potential_energy()\n",
    "FS_E= NEB_images[-1].get_potential_energy()\n",
    "# Why is it [0],[4],[-1]???\n",
    "\n",
    "Eact_IT = TS_E-IS_E\n",
    "Eact_FT = TS_E-FS_E\n",
    "print(f'The barrier of forward reaction is {Eact_IT:.4f} eV')\n",
    "print(f'The barrier of backward reaction is {Eact_FT:.4f} eV')"
   ]
  },
  {
   "cell_type": "code",
   "execution_count": null,
   "id": "8a594952-4729-43b1-9466-dadca605f7ee",
   "metadata": {},
   "outputs": [],
   "source": [
    "fig = plt.figure(dpi=300)\n",
    "ax = fig.add_axes((0.15, 0.15, 0.8, 0.75))\n",
    "nebtools.plot_band(ax)\n",
    "plt.show()\n",
    "plt.close()"
   ]
  },
  {
   "cell_type": "code",
   "execution_count": null,
   "id": "3a9dc594-6f75-4f46-bb5a-3f3a98b95c52",
   "metadata": {},
   "outputs": [],
   "source": [
    "# You might have to first remove the old output files before you run this\n",
    "h = 4.135667689e-15\n",
    "# No one wants to solve the whole Hessian involving all atoms (most of them are not moving)\n",
    "indices = [116,121,122,123,128,144]\n",
    "# Solve the vibrational energy for ini state\n",
    "vib_IS = Vibrations(NEB_images[0],indices=indices,name=\"ex1_dump/vib_IS\")\n",
    "vib_IS.clean()\n",
    "vib_IS.run()\n",
    "# Get the vibrational energies\n",
    "IS_energies = vib_IS.get_energies()\n",
    "# Get a product of them (for calculation of prefactor with hTST)\n",
    "IS_real = [i.real for i in IS_energies if i.real != 0]\n",
    "\n",
    "# Solve the vibrational energy for transition state\n",
    "vib_TS = Vibrations(NEB_images[4],indices=indices,name=\"ex1_dump/vib_TS\")\n",
    "vib_TS.clean()\n",
    "vib_TS.run()\n",
    "# Get the vibrational energies\n",
    "TS_energies = vib_TS.get_energies()\n",
    "# Get a product of them (for calculation of prefactor with hTST)\n",
    "# One of them is supposed to be imaginary (is it?)\n",
    "TS_real = [i.real for i in TS_energies if i.real != 0]\n",
    "\n",
    "# Solve the vibrational energy for fin state\n",
    "vib_FS = Vibrations(NEB_images[-1],indices=indices,name=\"ex1_dump/vib_FS\")\n",
    "vib_FS.clean()\n",
    "vib_FS.run()\n",
    "FS_energies = vib_FS.get_energies()\n",
    "FS_real = [i.real for i in FS_energies if i.real != 0]\n",
    "\n",
    "nu_IT = (np.prod(IS_real)/np.prod(TS_real))/h\n",
    "nu_FT = (np.prod(FS_real)/np.prod(TS_real))/h\n",
    "print(f'The prefactor of forward reaction is {nu_IT:.4e} Hz')\n",
    "print(f'The prefactor of backward reaction is {nu_FT:.4e} Hz')"
   ]
  },
  {
   "cell_type": "markdown",
   "id": "b75abaac-6c78-4083-a25a-5b3337bf9864",
   "metadata": {},
   "source": [
    "<h2> Ex.2: Bond Breaking Direct Hop <h2>"
   ]
  },
  {
   "cell_type": "code",
   "execution_count": null,
   "id": "c3b916a8-db9d-4eff-9294-6b34ad26eced",
   "metadata": {},
   "outputs": [],
   "source": [
    "import os\n",
    "try:    \n",
    "    os.mkdir('ex2_dump/')\n",
    "except:\n",
    "    pass\n",
    "# ASE build in function to generate surface\n",
    "fcc100_Pd = fcc100('Pd', (6,6,4), a=None, vacuum=10, orthogonal=True, periodic=True)\n",
    "# Get the NN separation between Ag-Ag\n",
    "NN_dist= asedata.reference_states[46]['a']/np.sqrt(2)\n",
    "\n",
    "# Get a location of the adatom to put\n",
    "adatom_loc_xy = fcc100_Pd.positions[fcc100_Pd.positions[:,2].argsort()[-1]]+ NN_dist*np.array([-3.5,-3.5,0])\n",
    "adatom_loc_xy_2 = fcc100_Pd.positions[fcc100_Pd.positions[:,2].argsort()[-1]]+ NN_dist*np.array([-2.5,-3.5,0])\n",
    "# This is relative to the 'top' of the slab\n",
    "adatom_loc_height= NN_dist/np.sqrt(2)\n",
    "# Make an ase obj for the initial state\n",
    "ini_ase=fcc100_Pd.copy()\n",
    "add_adsorbate(ini_ase, 'Pd', adatom_loc_height, position=(adatom_loc_xy[0], adatom_loc_xy[1]))\n",
    "add_adsorbate(ini_ase, 'Pd', adatom_loc_height, position=(adatom_loc_xy_2[0], adatom_loc_xy_2[1]))\n",
    "\n",
    "# Similrar to above, but with the adatom shifted to the next holo-site\n",
    "adatom_loc_xy_2 = adatom_loc_xy_2+NN_dist*np.array([1,0,0])\n",
    "fin_ase=fcc100_Pd.copy()\n",
    "add_adsorbate(fin_ase, 'Pd', adatom_loc_height, position=(adatom_loc_xy[0], adatom_loc_xy[1]))\n",
    "add_adsorbate(fin_ase, 'Pd', adatom_loc_height, position=(adatom_loc_xy_2[0], adatom_loc_xy_2[1]))\n",
    "# Sanity check if the structure is okay\n",
    "asevisual.view([ini_ase,fin_ase])"
   ]
  },
  {
   "cell_type": "code",
   "execution_count": null,
   "id": "b5619956-7c5f-4e8f-8eeb-b59e75174c94",
   "metadata": {},
   "outputs": [],
   "source": [
    "ini_ase.set_calculator(EAM(elements=['Pd'],potential='Pd_u3.eam'))\n",
    "ini_e_before= ini_ase.get_potential_energy()\n",
    "dyn = LBFGS(ini_ase)\n",
    "# dyn = FIRE(ini_ase)\n",
    "dyn.run(fmax=0.05)\n",
    "ini_e_after= ini_ase.get_potential_energy()\n",
    "print(f'Structure Optimized Energy {ini_e_before} -> {ini_e_after}')\n",
    "\n",
    "fin_ase.set_calculator(EAM(elements=['Pd'],potential='Pd_u3.eam'))\n",
    "fin_e_before= fin_ase.get_potential_energy()\n",
    "# dyn = FIRE(fin_ase)\n",
    "dyn = LBFGS(fin_ase)\n",
    "dyn.run(fmax=0.05)\n",
    "fin_e_after= fin_ase.get_potential_energy()\n",
    "print(f'Structure Optimized Energy {fin_e_before} -> {fin_e_after}')"
   ]
  },
  {
   "cell_type": "code",
   "execution_count": null,
   "id": "406b98a9-8a2e-4e16-a4c7-de051f5b0a88",
   "metadata": {},
   "outputs": [],
   "source": [
    "# Make a list for images of the band, the first one is the initial, last one is final\n",
    "# The middle ones are initalized as a copy of the initial state (will be adjusted afterwards)\n",
    "# Let's put 7 images in the band\n",
    "Nimages = 7\n",
    "# From ASE documentation\n",
    "# Be sure to use the copy method (or similar) to create new instances of atoms within the list of images fed to the NEB.\n",
    "# Do not use something like [initial for i in range(3)], as it will only create references to the original atoms object.\n",
    "NEB_images = [ini_ase.copy() for item in np.arange(Nimages+1)]\n",
    "NEB_images+= [fin_ase]\n",
    "# Intiallize the NEB object\n",
    "neb=NEB(NEB_images, k=0.1, climb=True, method='improvedtangent')\n",
    "# Adjust the images to an interpolation of positions between inital and final states\n",
    "# IDPP: ‘Improved initial guess for minimum energy path calculations.’, S. Smidstrup, A. Pedersen, K. Stokbro and H. Jonsson, J. Chem. Phys. 140, 214106 (2014)\n",
    "neb.interpolate('idpp',mic=True)\n",
    "# Each bead has its own ASE calculator\n",
    "for bead in NEB_images:\n",
    "    bead.set_calculator(EAM(elements=['Pd'],potential='Pd_u3.eam'))\n",
    "# Take a look at it first\n",
    "asevisual.view(NEB_images)"
   ]
  },
  {
   "cell_type": "code",
   "execution_count": null,
   "id": "d1c6b777-7dfa-4f3d-8773-e0d67ad59377",
   "metadata": {},
   "outputs": [],
   "source": [
    "# Make a trajectory file, contains the images of each NEB iteration\n",
    "# Also set up the optimization algorithm for NEB, here we have FIRE or LBFGS\n",
    "# https://wiki.fysik.dtu.dk/ase/ase/optimize.html\n",
    "# dyn=FIRE(neb, trajectory='ex2_dump/NEB.traj', logfile='ex2_dump/neb.log')\n",
    "# or\n",
    "dyn=LBFGS(neb, trajectory='ex2_dump/NEB.traj', logfile='ex2_dump/neb.log')\n",
    "# Make a trajectory file for each bead on the band for each NEB iteration\n",
    "for bead_id in range(1,Nimages+1):\n",
    "    traj = Trajectory('ex2_dump/neb-%d.traj' % bead_id, 'w', NEB_images[bead_id])\n",
    "    dyn.attach(traj)\n",
    "# Run ciNEB\n",
    "dyn.run(fmax=0.05)"
   ]
  },
  {
   "cell_type": "code",
   "execution_count": null,
   "id": "937f9a5c-5777-49c3-b59a-1daf8303f25b",
   "metadata": {},
   "outputs": [],
   "source": [
    "# Alternate way, calculate by yourself\n",
    "nebtools = NEBTools(NEB_images)\n",
    "IS_E= NEB_images[0].get_potential_energy()\n",
    "# TS_E= nebtools.get_barrier(fit=False,raw=True)[0]\n",
    "# or\n",
    "TS_E= NEB_images[4].get_potential_energy()\n",
    "FS_E= NEB_images[-1].get_potential_energy()\n",
    "# Why is it [0],[4],[-1]???\n",
    "\n",
    "Eact_IT = TS_E-IS_E\n",
    "Eact_FT = TS_E-FS_E\n",
    "print(f'The barrier of forward reaction is {Eact_IT:.4f} eV')\n",
    "print(f'The barrier of backward reaction is {Eact_FT:.4f} eV')"
   ]
  },
  {
   "cell_type": "code",
   "execution_count": null,
   "id": "9d71e5c3-925c-4544-a4b8-40d2e49de0e4",
   "metadata": {},
   "outputs": [],
   "source": [
    "fig = plt.figure(dpi=300)\n",
    "ax = fig.add_axes((0.15, 0.15, 0.8, 0.75))\n",
    "nebtools.plot_band(ax)\n",
    "plt.show()\n",
    "plt.close()"
   ]
  },
  {
   "cell_type": "code",
   "execution_count": null,
   "id": "80f19abd-0fa8-4dd7-a0ff-16e32cbd7602",
   "metadata": {},
   "outputs": [],
   "source": [
    "# You might have to first remove the old output files before you run this\n",
    "h = 4.135667689e-15\n",
    "# No one wants to solve the whole Hessian involving all atoms (most of them are not moving)\n",
    "indices = [144,145]\n",
    "# Solve the vibrational energy for ini state\n",
    "vib_IS = Vibrations(NEB_images[0],indices=indices,name=\"ex2_dump/vib_IS\")\n",
    "vib_IS.clean()\n",
    "vib_IS.run()\n",
    "# Get the vibrational energies\n",
    "IS_energies = vib_IS.get_energies()\n",
    "# Get a product of them (for calculation of prefactor with hTST)\n",
    "IS_real = [i.real for i in IS_energies if i.real != 0]\n",
    "\n",
    "# Solve the vibrational energy for transition state\n",
    "vib_TS = Vibrations(NEB_images[4],indices=indices,name=\"ex2_dump/vib_TS\")\n",
    "vib_TS.clean()\n",
    "vib_TS.run()\n",
    "# Get the vibrational energies\n",
    "TS_energies = vib_TS.get_energies()\n",
    "# Get a product of them (for calculation of prefactor with hTST)\n",
    "# One of them is supposed to be imaginary (is it?)\n",
    "TS_real = [i.real for i in TS_energies if i.real != 0]\n",
    "\n",
    "# Solve the vibrational energy for fin state\n",
    "vib_FS = Vibrations(NEB_images[-1],indices=indices,name=\"ex2_dump/vib_FS\")\n",
    "vib_FS.clean()\n",
    "vib_FS.run()\n",
    "FS_energies = vib_FS.get_energies()\n",
    "FS_real = [i.real for i in FS_energies if i.real != 0]\n",
    "\n",
    "nu_IT = (np.prod(IS_real)/np.prod(TS_real))/h\n",
    "nu_FT = (np.prod(FS_real)/np.prod(TS_real))/h\n",
    "print(f'The prefactor of forward reaction is {nu_IT:.4e} Hz')\n",
    "print(f'The prefactor of backward reaction is {nu_FT:.4e} Hz')"
   ]
  },
  {
   "cell_type": "markdown",
   "id": "74657af8-c2b1-4c6e-964c-b87568433ecd",
   "metadata": {},
   "source": [
    "<h2> Ex.3: Hmmm <h2>"
   ]
  },
  {
   "cell_type": "code",
   "execution_count": null,
   "id": "db1a0e67-cbf2-422f-b909-e1c24f758c5b",
   "metadata": {},
   "outputs": [],
   "source": [
    "import os\n",
    "try:    \n",
    "    os.mkdir('ex3_dump/')\n",
    "except:\n",
    "    pass\n",
    "# ASE build in function to generate surface\n",
    "fcc100_Pd = fcc100('Pd', (6,6,4), a=None, vacuum=10, orthogonal=True, periodic=True)\n",
    "# Get the NN separation between Ag-Ag\n",
    "NN_dist= asedata.reference_states[46]['a']/np.sqrt(2)\n",
    "\n",
    "# Get a location of the adatom to put\n",
    "adatom_loc_xy = fcc100_Pd.positions[fcc100_Pd.positions[:,2].argsort()[-1]]+ NN_dist*np.array([-3.5,-3.5,0])\n",
    "# This is relative to the 'top' of the slab\n",
    "adatom_loc_height= NN_dist/np.sqrt(2)\n",
    "# Make an ase obj for the initial state\n",
    "ini_ase=fcc100_Pd.copy()\n",
    "add_adsorbate(ini_ase, 'Pd', adatom_loc_height, position=(adatom_loc_xy[0], adatom_loc_xy[1]))\n",
    "\n",
    "# Similrar to above, but with the adatom shifted to the next holo-site\n",
    "adatom_loc_xy = adatom_loc_xy+NN_dist*np.array([1,1,0])\n",
    "fin_ase=fcc100_Pd.copy()\n",
    "add_adsorbate(fin_ase, 'Pd', adatom_loc_height, position=(adatom_loc_xy[0], adatom_loc_xy[1]))\n",
    "# Sanity check if the structure is okay\n",
    "asevisual.view([ini_ase,fin_ase])"
   ]
  },
  {
   "cell_type": "code",
   "execution_count": null,
   "id": "c0881d5d-83f4-4ea1-8db6-d9ec6b0b1263",
   "metadata": {},
   "outputs": [],
   "source": [
    "ini_ase.set_calculator(EAM(elements=['Pd'],potential='Pd_u3.eam'))\n",
    "ini_e_before= ini_ase.get_potential_energy()\n",
    "# dyn = FIRE(ini_ase)\n",
    "dyn = LBFGS(ini_ase)\n",
    "dyn.run(fmax=0.05)\n",
    "ini_e_after= ini_ase.get_potential_energy()\n",
    "print(f'Structure Optimized Energy {ini_e_before} -> {ini_e_after}')\n",
    "\n",
    "fin_ase.set_calculator(EAM(elements=['Pd'],potential='Pd_u3.eam'))\n",
    "fin_e_before= fin_ase.get_potential_energy()\n",
    "# dyn = FIRE(fin_ase)\n",
    "dyn = LBFGS(fin_ase)\n",
    "dyn.run(fmax=0.05)\n",
    "fin_e_after= fin_ase.get_potential_energy()\n",
    "print(f'Structure Optimized Energy {fin_e_before} -> {fin_e_after}')"
   ]
  },
  {
   "cell_type": "code",
   "execution_count": null,
   "id": "d356d555-3850-48c6-abed-7098748c3092",
   "metadata": {},
   "outputs": [],
   "source": [
    "# Make a list for images of the band, the first one is the initial, last one is final\n",
    "# The middle ones are initalized as a copy of the initial state (will be adjusted afterwards)\n",
    "# Let's put 7 images in the band\n",
    "Nimages = 7\n",
    "# From ASE documentation\n",
    "# Be sure to use the copy method (or similar) to create new instances of atoms within the list of images fed to the NEB.\n",
    "# Do not use something like [initial for i in range(3)], as it will only create references to the original atoms object.\n",
    "NEB_images = [ini_ase.copy() for item in np.arange(Nimages+1)]\n",
    "NEB_images+= [fin_ase]\n",
    "# Intiallize the NEB object\n",
    "neb=NEB(NEB_images, k=0.1, climb=True, method='improvedtangent')\n",
    "# Adjust the images to an interpolation of positions between inital and final states\n",
    "# IDPP: ‘Improved initial guess for minimum energy path calculations.’, S. Smidstrup, A. Pedersen, K. Stokbro and H. Jonsson, J. Chem. Phys. 140, 214106 (2014)\n",
    "neb.interpolate('idpp',mic=True)\n",
    "# Each bead has its own ASE calculator\n",
    "for bead in NEB_images:\n",
    "    bead.set_calculator(EAM(elements=['Pd'],potential='Pd_u3.eam'))\n",
    "# Take a look at it first\n",
    "asevisual.view(NEB_images)"
   ]
  },
  {
   "cell_type": "code",
   "execution_count": null,
   "id": "4bf6c57f-3ba5-4960-8f5b-c9700dbe6fd9",
   "metadata": {},
   "outputs": [],
   "source": [
    "# Make a trajectory file, contains the images of each NEB iteration\n",
    "# dyn=FIRE(neb, trajectory='ex3_dump/NEB.traj', logfile='ex3_dump/neb.log')\n",
    "dyn=LBFGS(neb, trajectory='ex3_dump/NEB.traj', logfile='ex3_dump/neb.log')\n",
    "# Make a trajectory file for each bead on the band for each NEB iteration\n",
    "for bead_id in range(1,Nimages+1):\n",
    "    traj = Trajectory('ex3_dump/neb-%d.traj' % bead_id, 'w', NEB_images[bead_id])\n",
    "    dyn.attach(traj)\n",
    "# Run ciNEB\n",
    "dyn.run(fmax=0.05)"
   ]
  },
  {
   "cell_type": "code",
   "execution_count": null,
   "id": "a808a66b-33d2-4e2b-84fa-ecbed22f5762",
   "metadata": {},
   "outputs": [],
   "source": [
    "# Alternate way, calculate by yourself\n",
    "nebtools = NEBTools(NEB_images)\n",
    "IS_E= NEB_images[0].get_potential_energy()\n",
    "# TS_E= nebtools.get_barrier(fit=False,raw=True)[0]\n",
    "# or\n",
    "TS_E= NEB_images[4].get_potential_energy()\n",
    "FS_E= NEB_images[-1].get_potential_energy()\n",
    "# Why is it [0],[4],[-1]???\n",
    "print(f'The barrier of forward reaction is {Eact_IT:.4f} eV')\n",
    "print(f'The barrier of backward reaction is {Eact_FT:.4f} eV')"
   ]
  },
  {
   "cell_type": "code",
   "execution_count": null,
   "id": "451447c5-1c58-4a08-b58b-eb49ed854531",
   "metadata": {},
   "outputs": [],
   "source": [
    "fig = plt.figure(dpi=300)\n",
    "ax = fig.add_axes((0.15, 0.15, 0.8, 0.75))\n",
    "nebtools.plot_band(ax)\n",
    "plt.show()\n",
    "plt.close()"
   ]
  },
  {
   "cell_type": "code",
   "execution_count": null,
   "id": "d450a636-f4d7-4aa2-a1ed-b3b5245db62a",
   "metadata": {},
   "outputs": [],
   "source": [
    "# You might have to first remove the old output files before you run this\n",
    "h = 4.135667689e-15\n",
    "# No one wants to solve the whole Hessian involving all atoms (most of them are not moving)\n",
    "indices = [144]\n",
    "# Solve the vibrational energy for ini state\n",
    "vib_IS = Vibrations(NEB_images[0],indices=indices,name=\"ex3_dump/vib_IS\")\n",
    "vib_IS.clean()\n",
    "vib_IS.run()\n",
    "# Get the vibrational energies\n",
    "IS_energies = vib_IS.get_energies()\n",
    "# Get a product of them (for calculation of prefactor with hTST)\n",
    "IS_real = [i.real for i in IS_energies if i.real != 0]\n",
    "\n",
    "# Solve the vibrational energy for transition state\n",
    "vib_TS = Vibrations(NEB_images[4],indices=indices,name=\"ex3_dump/vib_TS\")\n",
    "vib_TS.clean()\n",
    "vib_TS.run()\n",
    "# Get the vibrational energies\n",
    "TS_energies = vib_TS.get_energies()\n",
    "# Get a product of them (for calculation of prefactor with hTST)\n",
    "# One of them is supposed to be imaginary (is it?)\n",
    "TS_real = [i.real for i in TS_energies if i.real != 0]\n",
    "\n",
    "# Solve the vibrational energy for fin state\n",
    "vib_FS = Vibrations(NEB_images[-1],indices=indices,name=\"ex3_dump/vib_FS\")\n",
    "vib_FS.clean()\n",
    "vib_FS.run()\n",
    "FS_energies = vib_FS.get_energies()\n",
    "FS_real = [i.real for i in FS_energies if i.real != 0]\n",
    "\n",
    "nu_IT = (np.prod(IS_real)/np.prod(TS_real))/h\n",
    "nu_FT = (np.prod(FS_real)/np.prod(TS_real))/h\n",
    "print(f'The prefactor of forward reaction is {nu_IT:.4e} Hz')\n",
    "print(f'The prefactor of backward reaction is {nu_FT:.4e} Hz')"
   ]
  },
  {
   "cell_type": "markdown",
   "id": "b6458ba4-0281-4116-beb2-92c58b90f59b",
   "metadata": {},
   "source": [
    "<h1>But hold on again!!!<h1>\n",
    "<h2>If you take a look at the MEP (view the NEH.traj)<h2>\n",
    "<h2>This doesn't look like a physically feasible process!<h2>\n",
    "<h2>You should instead break it down into multiple processes, do a series of NEB on it<h2>"
   ]
  },
  {
   "cell_type": "markdown",
   "id": "de9024d0-2f9e-4ff3-b709-b0a9db63ea05",
   "metadata": {},
   "source": [
    "================================================================================================================================================\n",
    "<h2>Bonus Materials<h2>"
   ]
  },
  {
   "cell_type": "markdown",
   "id": "cc03af94-c97f-46f7-a8c8-4a68073ea3a6",
   "metadata": {},
   "source": [
    "<h2>If you are not familiar with ASE, the Atoms object is the class you have to handle most of them time<h2>\n",
    "https://wiki.fysik.dtu.dk/ase/gettingstarted/tut01_molecule/molecule.html\n",
    "\n",
    "You can modify the positions of atoms, add/remove atoms like we have done in the examples above\n",
    "\n",
    "Please go ahead to explore the way this is handled"
   ]
  },
  {
   "cell_type": "markdown",
   "id": "94e73a3b-a445-4813-a0e8-9720b5c31712",
   "metadata": {},
   "source": [
    "<h2>You may need this in other tutorials<h2>\n",
    "<h2>In-/ Outputting structures (ASE)<h2>\n",
    "https://wiki.fysik.dtu.dk/ase/ase/io/io.html"
   ]
  },
  {
   "cell_type": "code",
   "execution_count": null,
   "id": "3ad80ecd-573e-47a3-bfca-13b7a2cd574a",
   "metadata": {},
   "outputs": [],
   "source": [
    "from ase import io as aseio\n",
    "# Export\n",
    "aseio.write('demo_dump/export_ini.con',ini_ase, parallel=False, append=False)\n",
    "aseio.write('demo_dump/export_fin.con',fin_ase, parallel=False, append=False)"
   ]
  },
  {
   "cell_type": "markdown",
   "id": "1654adaa-4ffe-4757-8a51-b335f41de6db",
   "metadata": {},
   "source": [
    "<h2>So now you want look at the trajectories generated<h2>\n",
    "<h2>e.g. the NEB.traj we generated in the demonstration what should you do?<h2>\n",
    "<h2>1) Load the structure<h2>\n",
    "<h2>2) Now you have a list of Atoms (or \"trajectory\" in ASE terms)<h2>\n",
    "<h2>3) view them as we did before<h2>"
   ]
  },
  {
   "cell_type": "code",
   "execution_count": null,
   "id": "e68ed3b0-8dae-4c8e-ae80-4e9176a42314",
   "metadata": {},
   "outputs": [],
   "source": [
    "trajectory_input= aseio.read('demo_dump/NEB.traj',index=':',parallel=False)\n",
    "asevisual.view(trajectory_input)"
   ]
  },
  {
   "cell_type": "markdown",
   "id": "e3477697-efe4-444c-8eaa-b077453f8faf",
   "metadata": {},
   "source": [
    "<h2>The index here is \":\", which means read all structures in that file (it contains all images states in all iterations!)<h2>\n",
    "<h2>If you just want to see the last 9<h2>"
   ]
  },
  {
   "cell_type": "code",
   "execution_count": null,
   "id": "00e8b17c-e3d2-4215-b3be-4a8565817a36",
   "metadata": {},
   "outputs": [],
   "source": [
    "trajectory_input= aseio.read('demo_dump/NEB.traj',index='-9:',parallel=False)\n",
    "asevisual.view(trajectory_input)"
   ]
  }
 ],
 "metadata": {
  "kernelspec": {
   "display_name": "Python 3 (ipykernel)",
   "language": "python",
   "name": "python3"
  },
  "language_info": {
   "codemirror_mode": {
    "name": "ipython",
    "version": 3
   },
   "file_extension": ".py",
   "mimetype": "text/x-python",
   "name": "python",
   "nbconvert_exporter": "python",
   "pygments_lexer": "ipython3",
   "version": "3.8.10"
  }
 },
 "nbformat": 4,
 "nbformat_minor": 5
}
