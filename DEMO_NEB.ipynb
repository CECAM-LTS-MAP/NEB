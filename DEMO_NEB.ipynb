{
 "cells": [
  {
   "cell_type": "code",
   "execution_count": null,
   "id": "dcdcf31f-2703-4101-86b8-c2e8960a7049",
   "metadata": {},
   "outputs": [],
   "source": [
    "import ase\n",
    "import numpy as np\n",
    "import matplotlib.pyplot as plt\n",
    "from ase.build import fcc100,add_adsorbate\n",
    "from ase import Atoms\n",
    "import ase.visualize as asevisual\n",
    "from ase import data as asedata\n",
    "\n",
    "from ase.calculators.eam import EAM\n",
    "from ase.optimize import FIRE\n",
    "from ase.neb import NEB\n",
    "from ase.neb import NEBTools\n",
    "from ase.io import Trajectory\n",
    "from ase.vibrations import Vibrations"
   ]
  },
  {
   "cell_type": "markdown",
   "id": "2ba31d12-d49c-41c6-926f-b07e4a4c66f2",
   "metadata": {},
   "source": [
    "<h1> Demonstration<h1>\n",
    "<h5>Useful page: https://wiki.fysik.dtu.dk/ase/ase/neb.html<h5>\n",
    "<h2>Direct hopping of adatom on silver fcc(100) surface.<h2>\n",
    "<h2>Step 1: Prepare initial and final state structures<h2>"
   ]
  },
  {
   "cell_type": "code",
   "execution_count": null,
   "id": "81ffa284-2e2c-4aa4-be5b-48051efa06ea",
   "metadata": {},
   "outputs": [],
   "source": [
    "import os\n",
    "try:    \n",
    "    os.mkdir('demo_dump/')\n",
    "except:\n",
    "    pass\n",
    "# ASE build in function to generate surface\n",
    "fcc100_Pd = fcc100('Pd', (6,6,4), a=None, vacuum=10, orthogonal=True, periodic=True)\n",
    "# Get the NN separation between Ag-Ag\n",
    "NN_dist= asedata.reference_states[46]['a']/np.sqrt(2)\n",
    "\n",
    "# Get a location of the adatom to put\n",
    "adatom_loc_xy = fcc100_Pd.positions[fcc100_Pd.positions[:,2].argsort()[-1]]+ NN_dist*np.array([-3.5,-3.5,0])\n",
    "# This is relative to the 'top' of the slab\n",
    "adatom_loc_height= NN_dist/np.sqrt(2)\n",
    "# Make an ase obj for the initial state\n",
    "ini_ase=fcc100_Pd.copy()\n",
    "add_adsorbate(ini_ase, 'Pd', adatom_loc_height, position=(adatom_loc_xy[0], adatom_loc_xy[1]))\n",
    "\n",
    "# Similrar to above, but with the adatom shifted to the next holo-site\n",
    "adatom_loc_xy = adatom_loc_xy+NN_dist*np.array([1,0,0])\n",
    "fin_ase=fcc100_Pd.copy()\n",
    "add_adsorbate(fin_ase, 'Pd', adatom_loc_height, position=(adatom_loc_xy[0], adatom_loc_xy[1]))\n",
    "\n",
    "# Sanity check if the structure is okay\n",
    "asevisual.view([ini_ase,fin_ase])"
   ]
  },
  {
   "cell_type": "markdown",
   "id": "aa27737d-a411-4411-a5e6-a01e6f119888",
   "metadata": {},
   "source": [
    "<h2>Step 2: Optimize the structures!<h2>"
   ]
  },
  {
   "cell_type": "code",
   "execution_count": null,
   "id": "84799ec7-8207-4953-b551-6e685fa6470e",
   "metadata": {},
   "outputs": [],
   "source": [
    "ini_ase.set_calculator(EAM(elements=['Pd'],potential='Pd_u3.eam'))\n",
    "ini_e_before= ini_ase.get_potential_energy()\n",
    "dyn = FIRE(ini_ase)\n",
    "dyn.run(fmax=0.05)\n",
    "ini_e_after= ini_ase.get_potential_energy()\n",
    "print(f'Structure Optimized Energy {ini_e_before} -> {ini_e_after}')\n",
    "\n",
    "fin_ase.set_calculator(EAM(elements=['Pd'],potential='Pd_u3.eam'))\n",
    "fin_e_before= fin_ase.get_potential_energy()\n",
    "dyn = FIRE(fin_ase)\n",
    "dyn.run(fmax=0.05)\n",
    "fin_e_after= fin_ase.get_potential_energy()\n",
    "print(f'Structure Optimized Energy {fin_e_before} -> {fin_e_after}')"
   ]
  },
  {
   "cell_type": "markdown",
   "id": "4096717a-4f4e-4371-a3af-affed5295ef0",
   "metadata": {},
   "source": [
    "<h2>Step 3: ci-NEB Time. Initalize the states of the band<h2>"
   ]
  },
  {
   "cell_type": "code",
   "execution_count": null,
   "id": "267d0e63-3aed-4274-95b9-6740eb38e64a",
   "metadata": {},
   "outputs": [],
   "source": [
    "# Make a list for images of the band, the first one is the initial, last one is final\n",
    "# The middle ones are initalized as a copy of the initial state (will be adjusted afterwards)\n",
    "# Let's put 7 images in the band\n",
    "Nimages = 7\n",
    "# From ASE documentation\n",
    "# Be sure to use the copy method (or similar) to create new instances of atoms within the list of images fed to the NEB.\n",
    "# Do not use something like [initial for i in range(3)], as it will only create references to the original atoms object.\n",
    "NEB_images = [ini_ase.copy() for item in np.arange(Nimages+1)]\n",
    "NEB_images+= [fin_ase]\n",
    "# Intiallize the NEB object\n",
    "neb=NEB(NEB_images, k=0.1, climb=True, method='improvedtangent')\n",
    "# Adjust the images to an interpolation of positions between inital and final states\n",
    "# IDPP: ‘Improved initial guess for minimum energy path calculations.’, S. Smidstrup, A. Pedersen, K. Stokbro and H. Jonsson, J. Chem. Phys. 140, 214106 (2014)\n",
    "neb.interpolate('idpp',mic=True)\n",
    "# Each bead has its own ASE calculator\n",
    "for bead in NEB_images:\n",
    "    bead.set_calculator(EAM(elements=['Pd'],potential='Pd_u3.eam'))\n",
    "# Take a look at it first\n",
    "asevisual.view(NEB_images)"
   ]
  },
  {
   "cell_type": "markdown",
   "id": "321dcd58-d549-4802-ba88-bebf9e66d250",
   "metadata": {},
   "source": [
    "<h2>Step 4: Really ci-NEB Time<h2>"
   ]
  },
  {
   "cell_type": "code",
   "execution_count": null,
   "id": "182e8e8c-de33-46a1-af37-9d6737350e71",
   "metadata": {},
   "outputs": [],
   "source": [
    "# Make a trajectory file, contains the images of each NEB iteration\n",
    "dyn=FIRE(neb, trajectory='demo_dump/NEB.traj', logfile='demo_dump/neb.log')\n",
    "# Make a trajectory file for each bead on the band for each NEB iteration\n",
    "for bead_id in range(1,Nimages+1):\n",
    "    traj = Trajectory('demo_dump/neb-%d.traj' % bead_id, 'w', NEB_images[bead_id])\n",
    "    dyn.attach(traj)\n",
    "# Run ciNEB\n",
    "dyn.run(fmax=0.05)"
   ]
  },
  {
   "cell_type": "markdown",
   "id": "6f595b88-cca1-4a3d-9439-6e485f7f0a7f",
   "metadata": {},
   "source": [
    "<h2>Step 5: Extracting Stuffs<h2>"
   ]
  },
  {
   "cell_type": "code",
   "execution_count": null,
   "id": "f5781a6c-baff-4a18-a568-448700afed8a",
   "metadata": {},
   "outputs": [],
   "source": [
    "# This gives the forward barrier\n",
    "# just the energy difference of transition state and initial\n",
    "nebtools = NEBTools(NEB_images)\n",
    "barrier= nebtools.get_barrier(fit=False)\n",
    "print(f'The barrier of forward reaction is {barrier[0]}eV')"
   ]
  },
  {
   "cell_type": "code",
   "execution_count": null,
   "id": "a679ce3f-8620-4d34-bcbe-12a464ed9056",
   "metadata": {},
   "outputs": [],
   "source": [
    "# Alternate way, calculate by yourself\n",
    "nebtools = NEBTools(NEB_images)\n",
    "IS_E= NEB_images[0].get_potential_energy()\n",
    "TS_E= nebtools.get_barrier(fit=False,raw=True)\n",
    "FS_E= NEB_images[-1].get_potential_energy()\n",
    "\n",
    "Eact_IT = TS_E[0]-IS_E\n",
    "Eact_FT = TS_E[0]-FS_E\n",
    "print(f'The barrier of forward reaction is {Eact_IT:.4f} eV')\n",
    "print(f'The barrier of backward reaction is {Eact_FT:.4f} eV')"
   ]
  },
  {
   "cell_type": "code",
   "execution_count": null,
   "id": "2aeacd6c-456d-48e4-a873-a7ed71a25911",
   "metadata": {},
   "outputs": [],
   "source": [
    "fig = plt.figure(dpi=300)\n",
    "ax = fig.add_axes((0.15, 0.15, 0.8, 0.75))\n",
    "nebtools.plot_band(ax)\n",
    "plt.show()\n",
    "plt.close()"
   ]
  },
  {
   "cell_type": "code",
   "execution_count": null,
   "id": "3467c8df-d817-46c5-abf6-d7fc5ce1e00a",
   "metadata": {},
   "outputs": [],
   "source": [
    "h = 4.135667689e-15\n",
    "# No one wants to solve the whole Hessian involving all atoms (most of them are not moving)\n",
    "indices = [144]\n",
    "# Solve the vibrational energy for ini state\n",
    "vib_IS = Vibrations(NEB_images[0],indices=indices,name=\"demo_dump/vib_IS\")\n",
    "vib_IS.clean()\n",
    "vib_IS.run()\n",
    "# Get the vibrational energies\n",
    "IS_energies = vib_IS.get_energies()\n",
    "# Get a product of them (for calculation of prefactor with hTST)\n",
    "IS_real = [i.real for i in IS_energies if i.real != 0]\n",
    "\n",
    "# Solve the vibrational energy for transition state\n",
    "vib_TS = Vibrations(NEB_images[4],indices=indices,name=\"demo_dump/vib_TS\")\n",
    "vib_TS.clean()\n",
    "vib_TS.run()\n",
    "# Get the vibrational energies\n",
    "TS_energies = vib_TS.get_energies()\n",
    "# Get a product of them (for calculation of prefactor with hTST)\n",
    "# One of them is supposed to be imaginary (is it?)\n",
    "TS_real = [i.real for i in TS_energies if i.real != 0]\n",
    "\n",
    "# Solve the vibrational energy for fin state\n",
    "vib_FS = Vibrations(NEB_images[-1],indices=indices,name=\"demo_dump/vib_FS\")\n",
    "vib_FS.clean()\n",
    "vib_FS.run()\n",
    "FS_energies = vib_FS.get_energies()\n",
    "FS_real = [i.real for i in FS_energies if i.real != 0]\n",
    "\n",
    "nu_IT = (np.prod(IS_real)/np.prod(TS_real))/h\n",
    "nu_FT = (np.prod(FS_real)/np.prod(TS_real))/h\n",
    "print(f'The prefactor of forward reaction is {nu_IT:.4e} Hz')\n",
    "print(f'The prefactor of backward reaction is {nu_FT:.4e} Hz')"
   ]
  }
 ],
 "metadata": {
  "kernelspec": {
   "display_name": "Python 3 (ipykernel)",
   "language": "python",
   "name": "python3"
  },
  "language_info": {
   "codemirror_mode": {
    "name": "ipython",
    "version": 3
   },
   "file_extension": ".py",
   "mimetype": "text/x-python",
   "name": "python",
   "nbconvert_exporter": "python",
   "pygments_lexer": "ipython3",
   "version": "3.8.10"
  }
 },
 "nbformat": 4,
 "nbformat_minor": 5
}
